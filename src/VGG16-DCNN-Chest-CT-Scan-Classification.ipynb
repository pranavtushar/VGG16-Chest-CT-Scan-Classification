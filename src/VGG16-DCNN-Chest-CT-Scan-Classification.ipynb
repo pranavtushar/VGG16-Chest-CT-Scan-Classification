{
  "nbformat": 4,
  "nbformat_minor": 0,
  "metadata": {
    "colab": {
      "name": "Chest CT-Scan VGG-16 CNN .ipynb",
      "private_outputs": true,
      "provenance": [],
      "collapsed_sections": [
        "OKLZ_t6HhXu7"
      ]
    },
    "kernelspec": {
      "name": "python3",
      "display_name": "Python 3"
    },
    "language_info": {
      "name": "python"
    },
    "accelerator": "GPU"
  },
  "cells": [
    {
      "cell_type": "markdown",
      "metadata": {
        "id": "zqJoUIGLV3tK"
      },
      "source": [
        "# **Chest CT-Scan Classification using VGG-16 Convolutional Neural Network (CNN) with Transfer Learning**"
      ]
    },
    {
      "cell_type": "markdown",
      "metadata": {
        "id": "_5KeDgwbWKw0"
      },
      "source": [
        "\n",
        "# Objective\n",
        "\n",
        "To use Computer Vision techniques of Deep Learning to correctly identify & classify Chest CT Scan into:\n",
        "\n",
        "*   Adeno Carcinoma\n",
        "*   Large Cell Carcinoma\n",
        "*   Normal\n",
        "*   Squamous Cell Carcinoma\n",
        "In this colab notebook, I have build a CNN model that would classify the chest CT scan dataset into 4 categories mentioned above.I have used VGG-16 model architecture and weights to train the model for this multi-classification problem. \n",
        "Metric used to justify model performance:\n",
        "\n",
        "\n",
        "$\\textrm{Accuracy} = \\frac{\\textrm{Number of images predicted correctly}}{\\textrm{Total number of images tested}} \\times 100\\%$"
      ]
    },
    {
      "cell_type": "markdown",
      "metadata": {
        "id": "R6A73esMWK1C"
      },
      "source": [
        "# 1. Download the kaggle library and Chest CT-Scan Dataset from kaggle"
      ]
    },
    {
      "cell_type": "code",
      "metadata": {
        "id": "uxRcv8AnmiiS"
      },
      "source": [
        "!nvidia-smi"
      ],
      "execution_count": null,
      "outputs": []
    },
    {
      "cell_type": "code",
      "metadata": {
        "id": "jVMJB8BTm1AY"
      },
      "source": [
        "import tensorflow as tf\n",
        "print(\"Num GPUs Available: \", len(tf.config.list_physical_devices('GPU')))"
      ],
      "execution_count": null,
      "outputs": []
    },
    {
      "cell_type": "code",
      "metadata": {
        "id": "Z-kcLn6XmRas"
      },
      "source": [
        "!pip install kaggle\n",
        "\n",
        "from google.colab import files\n",
        "files.upload()\n",
        "\n",
        "!mkdir -p ~/.kaggle\n",
        "!cp kaggle.json ~/.kaggle/\n",
        "\n",
        "!chmod 600 ~/.kaggle/kaggle.json #change the permission\n",
        " \n",
        "!kaggle datasets download -d mohamedhanyyy/chest-ctscan-images # installing the Chest CT-Scan dataset"
      ],
      "execution_count": null,
      "outputs": []
    },
    {
      "cell_type": "code",
      "metadata": {
        "id": "aAxlnRhypu82"
      },
      "source": [
        "# Unzip the kaggle dataset and extract all the files. \n",
        "from zipfile import ZipFile \n",
        "file_name= '/content/chest-ctscan-images.zip'\n",
        "\n",
        "with ZipFile(file_name,'r') as zip:\n",
        "  zip.extractall()\n",
        "  print(\"Done\")"
      ],
      "execution_count": null,
      "outputs": []
    },
    {
      "cell_type": "markdown",
      "metadata": {
        "id": "Q_UKGhfRzTF8"
      },
      "source": [
        "![image.png](data:image/png;base64,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)"
      ]
    },
    {
      "cell_type": "markdown",
      "metadata": {
        "id": "paZFl0sqm0kg"
      },
      "source": [
        "# 2. Import Necessary Libraries"
      ]
    },
    {
      "cell_type": "code",
      "metadata": {
        "id": "UyTCzSCFs2Kj"
      },
      "source": [
        "from IPython.display import clear_output\n",
        "!pip install imutils\n",
        "clear_output()"
      ],
      "execution_count": null,
      "outputs": []
    },
    {
      "cell_type": "code",
      "metadata": {
        "id": "CtS0K-WUs2MF"
      },
      "source": [
        "import numpy as np\n",
        "import pandas as pd\n",
        "import matplotlib.pyplot as plt\n",
        "import seaborn as sn\n",
        "import cv2\n",
        "import shutil\n",
        "import itertools\n",
        "import imutils\n",
        "\n",
        "import skimage.io\n",
        "import os \n",
        "import tqdm\n",
        "import glob\n",
        "from tqdm import tqdm\n",
        "\n",
        "from sklearn.utils import shuffle\n",
        "from sklearn import metrics\n",
        "from sklearn.model_selection import train_test_split\n",
        "from sklearn.preprocessing import LabelBinarizer\n",
        "from sklearn.metrics import accuracy_score, confusion_matrix, classification_report\n",
        "from skimage.io import imread, imshow\n",
        "from skimage.transform import resize\n",
        "from skimage.color import grey2rgb\n",
        "\n",
        "import tensorflow as tf\n",
        "from tensorflow.keras.preprocessing.image import ImageDataGenerator\n",
        "from tensorflow.keras.preprocessing import image_dataset_from_directory\n",
        "from tensorflow.keras.metrics import Metric\n",
        "from keras import layers\n",
        "from keras.models import Model\n",
        "from tensorflow.keras.layers import InputLayer, BatchNormalization, Dropout, Flatten, Dense, Activation, MaxPool2D, Conv2D\n",
        "from tensorflow.keras.callbacks import EarlyStopping, ModelCheckpoint\n",
        "from keras.applications.vgg16 import VGG16, preprocess_input\n",
        "from tensorflow.keras.utils import to_categorical\n",
        "from keras import optimizers\n",
        "from tensorflow.keras.optimizers import Adam\n",
        "from keras.callbacks import Callback,ModelCheckpoint,ReduceLROnPlateau, EarlyStopping\n",
        "from keras.models import Sequential,load_model\n",
        "from keras.wrappers.scikit_learn import KerasClassifier\n",
        "import keras.backend as K\n",
        "\n",
        "from typeguard import typechecked\n",
        "from typing import Optional\n",
        "\n",
        "import plotly.graph_objs as go\n",
        "from plotly.offline import init_notebook_mode, iplot\n",
        "from plotly import tools\n",
        "\n",
        "init_notebook_mode(connected=True)\n",
        "RANDOM_SEED = 123"
      ],
      "execution_count": null,
      "outputs": []
    },
    {
      "cell_type": "markdown",
      "metadata": {
        "id": "R5jWbflwnD0A"
      },
      "source": [
        "# **3. Data import and Preprocessing**\n"
      ]
    },
    {
      "cell_type": "markdown",
      "metadata": {
        "id": "VwIr03OEztT-"
      },
      "source": [
        "3.1 Load the Data"
      ]
    },
    {
      "cell_type": "code",
      "metadata": {
        "id": "-wH4PNUcm7NT"
      },
      "source": [
        "def load_data(dir_path, img_size=(100,100)):\n",
        "    \"\"\"\n",
        "    Load resized images as np.arrays to workspace\n",
        "    \"\"\"\n",
        "    X = []\n",
        "    y = []\n",
        "    i = 0\n",
        "    labels = dict()\n",
        "    for path in tqdm(sorted(os.listdir(dir_path))):\n",
        "        if not path.startswith('.'):\n",
        "            labels[i] = path\n",
        "            for file in os.listdir(dir_path + path):\n",
        "                if not file.startswith('.'):\n",
        "                    img = cv2.imread(dir_path + path + '/' + file)\n",
        "                    X.append(img)\n",
        "                    y.append(i)\n",
        "            i += 1\n",
        "    X = np.array(X)\n",
        "    y = np.array(y)\n",
        "    print(f'{len(X)} images loaded from {dir_path} directory.')\n",
        "    return X, y, labels"
      ],
      "execution_count": null,
      "outputs": []
    },
    {
      "cell_type": "code",
      "metadata": {
        "id": "dy46EYafti6y"
      },
      "source": [
        "TRAIN_DIR = '/content/Data/train/'\n",
        "TEST_DIR = '/content/Data/test/'\n",
        "VAL_DIR = '/content/Data/valid/'\n",
        "IMG_SIZE = (224,224)\n",
        "\n",
        "# use predefined function to load the image data into workspace\n",
        "X_train, y_train, labels = load_data(TRAIN_DIR, IMG_SIZE)\n",
        "X_test, y_test, _ = load_data(TEST_DIR, IMG_SIZE)\n",
        "X_val, y_val, _ = load_data(VAL_DIR, IMG_SIZE)"
      ],
      "execution_count": null,
      "outputs": []
    },
    {
      "cell_type": "markdown",
      "metadata": {
        "id": "mmYWHZz0z0vJ"
      },
      "source": [
        "3.2 Distributing Classes among sets"
      ]
    },
    {
      "cell_type": "code",
      "metadata": {
        "id": "h3Rcec9Iti8H"
      },
      "source": [
        "y = dict()\n",
        "y[0] = []\n",
        "y[1] = []\n",
        "\n",
        "for set_name in (y_train, y_val, y_test):\n",
        "    y[0].append(np.sum(set_name == 0))\n",
        "    y[1].append(np.sum(set_name == 1))\n",
        "\n",
        "trace0 = go.Bar(\n",
        "    x=['Train Set', 'Validation Set', 'Test Set'],\n",
        "    y=y[0],\n",
        "    name='No',\n",
        "    marker=dict(color='#33cc33'),\n",
        "    opacity=0.7\n",
        ")\n",
        "trace1 = go.Bar(\n",
        "    x=['Train Set', 'Validation Set', 'Test Set'],\n",
        "    y=y[1],\n",
        "    name='Yes',\n",
        "    marker=dict(color='#ff3300'),\n",
        "    opacity=0.7\n",
        ")\n",
        "data = [trace0, trace1]\n",
        "layout = go.Layout(\n",
        "    title='Count of classes in each set',\n",
        "    xaxis={'title': 'Set'},\n",
        "    yaxis={'title': 'Count'}\n",
        ")\n"
      ],
      "execution_count": null,
      "outputs": []
    },
    {
      "cell_type": "code",
      "metadata": {
        "id": "HHHr6gNxuGWP"
      },
      "source": [
        "def plot_samples(X, y, labels_dict, n=20):\n",
        "    \"\"\"\n",
        "    Creates a gridplot for n number of images from the set specified.\n",
        "    \"\"\"\n",
        "    for index in range(len(labels_dict)):        # -->  index in [0,1,2,3]\n",
        "        imgs = X[np.argwhere(y == index)][:n]  ## img = X_train[y_train==[0,1,2,3]]--> first 5 \n",
        "        j = 5\n",
        "        i = int(n/j)           \n",
        "\n",
        "        plt.figure(figsize=(15,6))\n",
        "        c = 1\n",
        "        for img in imgs:                 \n",
        "            plt.subplot(i,j,c)\n",
        "            plt.imshow(img[0])\n",
        "\n",
        "            plt.xticks([])\n",
        "            plt.yticks([])\n",
        "            c += 1\n",
        "        plt.suptitle('Tumor: {}'.format(labels_dict[index], index))\n",
        "        plt.show()"
      ],
      "execution_count": null,
      "outputs": []
    },
    {
      "cell_type": "code",
      "metadata": {
        "id": "2gR90IT8uGes"
      },
      "source": [
        "plot_samples(X_train, y_train, labels,10)"
      ],
      "execution_count": null,
      "outputs": []
    },
    {
      "cell_type": "markdown",
      "metadata": {
        "id": "NNNBvS0xfgXx"
      },
      "source": [
        "## 3.3  Crop the train dataset:\n",
        " 1. Crop the chest out of the training images.\n",
        " 2. visualise the cropped image.\n",
        " 3. Compare if the cropped dataset is better than the orginal dataset."
      ]
    },
    {
      "cell_type": "code",
      "metadata": {
        "id": "KPjJu8Eg1Wg0"
      },
      "source": [
        "def crop_imgs(set_name, add_pixels_value=0):\n",
        "    \"\"\"\n",
        "    Finds the extreme points on the image and crops the rectangular out of them\n",
        "    \"\"\"\n",
        "    set_new = []\n",
        "    for img in set_name:\n",
        "        gray = cv2.cvtColor(img, cv2.COLOR_RGB2GRAY)\n",
        "        gray = cv2.GaussianBlur(gray, (5, 5), 0)\n",
        "\n",
        "        # threshold the image, then perform a series of erosions +\n",
        "        # dilations to remove any small regions of noise\n",
        "        thresh = cv2.threshold(gray, 45, 255, cv2.THRESH_BINARY)[1]\n",
        "        thresh = cv2.erode(thresh, None, iterations=2)\n",
        "        thresh = cv2.dilate(thresh, None, iterations=2)\n",
        "\n",
        "        # find contours in thresholded image, then grab the largest one\n",
        "        cnts = cv2.findContours(thresh.copy(), cv2.RETR_EXTERNAL, cv2.CHAIN_APPROX_SIMPLE)\n",
        "        cnts = imutils.grab_contours(cnts)\n",
        "        c = max(cnts, key=cv2.contourArea)\n",
        "\n",
        "        # find the extreme points\n",
        "        extLeft = tuple(c[c[:, :, 0].argmin()][0])\n",
        "        extRight = tuple(c[c[:, :, 0].argmax()][0])\n",
        "        extTop = tuple(c[c[:, :, 1].argmin()][0])\n",
        "        extBot = tuple(c[c[:, :, 1].argmax()][0])\n",
        "\n",
        "        ADD_PIXELS = add_pixels_value\n",
        "        new_img = img[extTop[1]-ADD_PIXELS:extBot[1]+ADD_PIXELS, extLeft[0]-ADD_PIXELS:extRight[0]+ADD_PIXELS].copy()\n",
        "        set_new.append(new_img)\n",
        "\n",
        "    return np.array(set_new)"
      ],
      "execution_count": null,
      "outputs": []
    },
    {
      "cell_type": "code",
      "metadata": {
        "id": "3vvTFUw2tjCa"
      },
      "source": [
        "img = cv2.imread('/content/Data/train/adenocarcinoma_left.lower.lobe_T2_N0_M0_Ib/000000 (6).png')\n",
        "img = cv2.resize(\n",
        "            img,\n",
        "            dsize=IMG_SIZE,\n",
        "            interpolation=cv2.INTER_CUBIC\n",
        "        )\n",
        "gray = cv2.cvtColor(img, cv2.COLOR_RGB2GRAY)\n",
        "gray = cv2.GaussianBlur(gray, (5, 5), 0)\n",
        "\n",
        "# threshold the image, then perform a series of erosions +\n",
        "# dilations to remove any small regions of noise\n",
        "thresh = cv2.threshold(gray, 45, 255, cv2.THRESH_BINARY)[1]\n",
        "thresh = cv2.erode(thresh, None, iterations=2)\n",
        "thresh = cv2.dilate(thresh, None, iterations=2)\n",
        "\n",
        "# find contours in thresholded image, then grab the largest one\n",
        "cnts = cv2.findContours(thresh.copy(), cv2.RETR_EXTERNAL, cv2.CHAIN_APPROX_SIMPLE)\n",
        "cnts = imutils.grab_contours(cnts)\n",
        "c = max(cnts, key=cv2.contourArea)\n",
        "\n",
        "# find the extreme points\n",
        "extLeft = tuple(c[c[:, :, 0].argmin()][0])\n",
        "extRight = tuple(c[c[:, :, 0].argmax()][0])\n",
        "extTop = tuple(c[c[:, :, 1].argmin()][0])\n",
        "extBot = tuple(c[c[:, :, 1].argmax()][0])\n",
        "\n",
        "# add contour on the image\n",
        "img_cnt = cv2.drawContours(img.copy(), [c], -1, (0, 255, 255), 4)\n",
        "\n",
        "# add extreme points\n",
        "img_pnt = cv2.circle(img_cnt.copy(), extLeft, 8, (0, 0, 255), -1)\n",
        "img_pnt = cv2.circle(img_pnt, extRight, 8, (0, 255, 0), -1)\n",
        "img_pnt = cv2.circle(img_pnt, extTop, 8, (255, 0, 0), -1)\n",
        "img_pnt = cv2.circle(img_pnt, extBot, 8, (255, 255, 0), -1)\n",
        "\n",
        "# crop\n",
        "ADD_PIXELS = 0\n",
        "new_img = img[extTop[1]-ADD_PIXELS:extBot[1]+ADD_PIXELS, extLeft[0]-ADD_PIXELS:extRight[0]+ADD_PIXELS].copy()"
      ],
      "execution_count": null,
      "outputs": []
    },
    {
      "cell_type": "code",
      "metadata": {
        "id": "eLPPc78u1E-J"
      },
      "source": [
        "plt.figure(figsize=(15,6))\n",
        "plt.subplot(141)\n",
        "plt.imshow(img)\n",
        "plt.xticks([])\n",
        "plt.yticks([])\n",
        "plt.title('Step 1. Get the original image')\n",
        "plt.subplot(142)\n",
        "plt.imshow(img_cnt)\n",
        "plt.xticks([])\n",
        "plt.yticks([])\n",
        "plt.title('Step 2. Find the biggest contour')\n",
        "plt.subplot(143)\n",
        "plt.imshow(img_pnt)\n",
        "plt.xticks([])\n",
        "plt.yticks([])\n",
        "plt.title('Step 3. Find the extreme points')\n",
        "plt.subplot(144)\n",
        "plt.imshow(new_img)\n",
        "plt.xticks([])\n",
        "plt.yticks([])\n",
        "plt.title('Step 4. Crop the image')\n",
        "plt.show()"
      ],
      "execution_count": null,
      "outputs": []
    },
    {
      "cell_type": "code",
      "metadata": {
        "id": "7qHQTVWd1Qb7"
      },
      "source": [
        "# apply this for each set\n",
        "X_train_crop = crop_imgs(set_name=X_train)\n",
        "X_val_crop = crop_imgs(set_name=X_val)\n",
        "X_test_crop = crop_imgs(set_name=X_test)\n",
        "\n",
        "plot_samples(X_train_crop, y_train, labels, 10)"
      ],
      "execution_count": null,
      "outputs": []
    },
    {
      "cell_type": "markdown",
      "metadata": {
        "id": "8Xt7pe5tEq0k"
      },
      "source": [
        " Since the orginal and cropped images looks almost identical, lets proceed with the orginal training image dataset only."
      ]
    },
    {
      "cell_type": "markdown",
      "metadata": {
        "id": "LKBT63NFhDBp"
      },
      "source": [
        "# 3.4 Resizing images to (224,224) and applying preprocessing needed for VGG-16 model input"
      ]
    },
    {
      "cell_type": "code",
      "metadata": {
        "id": "jCM6XwtY1QwR"
      },
      "source": [
        "def preprocess_imgs(set_name, img_size):\n",
        "    \"\"\"\n",
        "    Resize and apply VGG-15 preprocessing\n",
        "    \"\"\"\n",
        "    set_new = []\n",
        "    for img in set_name:\n",
        "        img = cv2.resize(\n",
        "            img,\n",
        "            dsize=img_size,\n",
        "            interpolation=cv2.INTER_CUBIC\n",
        "        )\n",
        "        set_new.append(preprocess_input(img))\n",
        "    return np.array(set_new)"
      ],
      "execution_count": null,
      "outputs": []
    },
    {
      "cell_type": "code",
      "metadata": {
        "id": "3qe73Zxf1Qzk"
      },
      "source": [
        "X_train_prep = preprocess_imgs(set_name=X_train, img_size=IMG_SIZE)\n",
        "X_test_prep = preprocess_imgs(set_name=X_test, img_size=IMG_SIZE)\n",
        "X_val_prep = preprocess_imgs(set_name=X_val, img_size=IMG_SIZE)"
      ],
      "execution_count": null,
      "outputs": []
    },
    {
      "cell_type": "code",
      "metadata": {
        "id": "eRDePx979ZPU"
      },
      "source": [
        "plot_samples(X_train_prep, y_train, labels, 40)"
      ],
      "execution_count": null,
      "outputs": []
    },
    {
      "cell_type": "markdown",
      "metadata": {
        "id": "OKLZ_t6HhXu7"
      },
      "source": [
        "# 4. Transfer Learning Approach with VGG-16 Convolutional Neural Network Architecture.\n",
        "*The VGG-16 CNN Model is pre-trained on Imagenet Dataset*.\n",
        "\n"
      ]
    },
    {
      "cell_type": "markdown",
      "metadata": {
        "id": "arCd-3JQifle"
      },
      "source": [
        "# **4.1. Data Augmentation**\n",
        "\n",
        "Data Augmentation is used to increase the size of training dataset, and  for improving deep learning robustness."
      ]
    },
    {
      "cell_type": "code",
      "metadata": {
        "id": "-37mKet49ZWm"
      },
      "source": [
        "# set the paramters we want to change randomly\n",
        "demo_datagen = ImageDataGenerator(\n",
        "    rotation_range=15,\n",
        "    width_shift_range=0.05,\n",
        "    height_shift_range=0.05,\n",
        "    rescale=1./255,\n",
        "    shear_range=0.05,\n",
        "    brightness_range=[0.1, 1.5],\n",
        "    horizontal_flip=True,\n",
        "    vertical_flip=True\n",
        ")"
      ],
      "execution_count": null,
      "outputs": []
    },
    {
      "cell_type": "code",
      "metadata": {
        "id": "AXxyXs_F9ZYg"
      },
      "source": [
        "os.mkdir('preview')\n",
        "x = X_train_crop[0]  \n",
        "x = x.reshape((1,) + x.shape) \n",
        "\n",
        "i = 0\n",
        "for batch in demo_datagen.flow(x, batch_size=1, save_to_dir='preview', save_prefix='aug_img', save_format='jpg'):\n",
        "    i += 1\n",
        "    if i > 20:\n",
        "        break"
      ],
      "execution_count": null,
      "outputs": []
    },
    {
      "cell_type": "code",
      "metadata": {
        "id": "OccsDVuz9Za0"
      },
      "source": [
        "plt.imshow(X_train_crop[0])\n",
        "plt.xticks([])\n",
        "plt.yticks([])\n",
        "plt.title('Original Image')\n",
        "plt.show()\n",
        "\n",
        "plt.figure(figsize=(15,6))\n",
        "i = 1\n",
        "for img in os.listdir('preview/'):\n",
        "    img = cv2.cv2.imread('preview/' + img)\n",
        "    img = cv2.cvtColor(img, cv2.COLOR_BGR2RGB)\n",
        "    plt.subplot(3,7,i)\n",
        "    plt.imshow(img)\n",
        "    plt.xticks([])\n",
        "    plt.yticks([])\n",
        "    i += 1\n",
        "    if i > 3*7:\n",
        "        break\n",
        "plt.suptitle('Augemented Images')\n",
        "plt.show()"
      ],
      "execution_count": null,
      "outputs": []
    },
    {
      "cell_type": "code",
      "metadata": {
        "id": "GYAOlASQ9Zio"
      },
      "source": [
        "TRAIN_DIR = '/content/Data/train'\n",
        "VAL_DIR = '/content/Data/valid'\n",
        "TEST_DIR ='/content/Data/test'\n",
        "\n",
        "\n",
        "train_datagen = ImageDataGenerator(\n",
        "    rotation_range=15,\n",
        "    width_shift_range=0.1,\n",
        "    height_shift_range=0.1,\n",
        "    shear_range=0.1,\n",
        "    brightness_range=[0.5, 1.5],\n",
        "    horizontal_flip=True,\n",
        "    vertical_flip=True,\n",
        "    preprocessing_function=preprocess_input\n",
        ")\n",
        "\n",
        "val_datagen = ImageDataGenerator(\n",
        "    preprocessing_function=preprocess_input\n",
        ")\n",
        "\n",
        "test_datagen = ImageDataGenerator(\n",
        "    preprocessing_function=preprocess_input\n",
        ")"
      ],
      "execution_count": null,
      "outputs": []
    },
    {
      "cell_type": "code",
      "metadata": {
        "id": "iuEbVdEy9Zl2"
      },
      "source": [
        "train_generator = train_datagen.flow_from_directory(\n",
        "    TRAIN_DIR,\n",
        "    color_mode='rgb',\n",
        "    target_size=IMG_SIZE,\n",
        "    batch_size=32,\n",
        "    class_mode='categorical',\n",
        "    seed=RANDOM_SEED\n",
        ")\n",
        "\n",
        "\n",
        "validation_generator = val_datagen.flow_from_directory(\n",
        "    VAL_DIR,\n",
        "    color_mode='rgb',\n",
        "    target_size=IMG_SIZE,\n",
        "    batch_size=16,\n",
        "    class_mode='categorical',\n",
        "    seed=RANDOM_SEED\n",
        ")\n",
        "\n",
        "test_generator = test_datagen.flow_from_directory(\n",
        "    TEST_DIR,\n",
        "    color_mode='rgb',\n",
        "    target_size=IMG_SIZE,\n",
        "    batch_size=16,\n",
        "    class_mode='categorical',\n",
        "    seed=RANDOM_SEED\n",
        ")"
      ],
      "execution_count": null,
      "outputs": []
    },
    {
      "cell_type": "markdown",
      "metadata": {
        "id": "wZTp1fx5jP5B"
      },
      "source": [
        "## **4.1 Build the VGG 16 CNN Model**"
      ]
    },
    {
      "cell_type": "code",
      "metadata": {
        "id": "EwLOh7BwGBLG"
      },
      "source": [
        "base_model = tf.keras.applications.VGG16(input_shape=(224,224,3),include_top=False,weights=\"imagenet\")"
      ],
      "execution_count": null,
      "outputs": []
    },
    {
      "cell_type": "code",
      "metadata": {
        "id": "pJ8OEf8CGBM-"
      },
      "source": [
        "# Freezing Layers\n",
        "for layer in base_model.layers[:-8]:\n",
        "    layer.trainable=False"
      ],
      "execution_count": null,
      "outputs": []
    },
    {
      "cell_type": "code",
      "metadata": {
        "id": "QfcxzkGMGBO-"
      },
      "source": [
        "model=Sequential()\n",
        "model.add(base_model)\n",
        "model.add(Dropout(0.5))\n",
        "model.add(Flatten())\n",
        "model.add(BatchNormalization())\n",
        "model.add(Dense(32,kernel_initializer='he_uniform'))\n",
        "model.add(BatchNormalization())\n",
        "model.add(Activation('relu'))\n",
        "model.add(Dropout(0.5))\n",
        "model.add(Dense(32,kernel_initializer='he_uniform'))\n",
        "model.add(BatchNormalization())\n",
        "model.add(Activation('relu'))\n",
        "model.add(Dropout(0.5))\n",
        "model.add(Dense(32,kernel_initializer='he_uniform'))\n",
        "model.add(BatchNormalization())\n",
        "model.add(Activation('relu'))\n",
        "model.add(Dense(4,activation='softmax'))"
      ],
      "execution_count": null,
      "outputs": []
    },
    {
      "cell_type": "code",
      "metadata": {
        "id": "ZPNE9bxYGBTi"
      },
      "source": [
        "# Model Summary\n",
        "model.summary()"
      ],
      "execution_count": null,
      "outputs": []
    },
    {
      "cell_type": "code",
      "metadata": {
        "id": "ch5VJ5BUHoVT"
      },
      "source": [
        "from tensorflow.keras.utils import plot_model\n",
        "from IPython.display import Image\n",
        "plot_model(model, to_file='convnet.png', show_shapes=True,show_layer_names=True)\n",
        "Image(filename='convnet.png')"
      ],
      "execution_count": null,
      "outputs": []
    },
    {
      "cell_type": "code",
      "metadata": {
        "id": "biRlVS4YIa4E"
      },
      "source": [
        "def f1_score(y_true, y_pred):\n",
        "    true_positives = K.sum(K.round(K.clip(y_true * y_pred, 0, 1)))\n",
        "    possible_positives = K.sum(K.round(K.clip(y_true, 0, 1)))\n",
        "    predicted_positives = K.sum(K.round(K.clip(y_pred, 0, 1)))\n",
        "\n",
        "    precision = true_positives / (predicted_positives + K.epsilon())\n",
        "    recall = true_positives / (possible_positives + K.epsilon())\n",
        "    f1_val = 2*(precision*recall)/(precision+recall+K.epsilon())\n",
        "    return f1_val"
      ],
      "execution_count": null,
      "outputs": []
    },
    {
      "cell_type": "code",
      "metadata": {
        "id": "ojlKi3zSHoXS"
      },
      "source": [
        "METRICS = [\n",
        "      tf.keras.metrics.BinaryAccuracy(name='accuracy'),\n",
        "      tf.keras.metrics.Precision(name='precision'),\n",
        "      tf.keras.metrics.Recall(name='recall'),  \n",
        "      tf.keras.metrics.AUC(name='auc'),\n",
        "        f1_score,\n",
        "]"
      ],
      "execution_count": null,
      "outputs": []
    },
    {
      "cell_type": "code",
      "metadata": {
        "id": "WQAaD-cnHoal"
      },
      "source": [
        "lrd = ReduceLROnPlateau(monitor = 'val_loss',patience =6,verbose = 1,factor = 0.50, min_lr = 1e-5)    \n",
        "mcp = ModelCheckpoint('model.h5')\n",
        "es = EarlyStopping(verbose=1, patience=6)"
      ],
      "execution_count": null,
      "outputs": []
    },
    {
      "cell_type": "code",
      "metadata": {
        "id": "8gBziHh3Hoce"
      },
      "source": [
        "model.compile(optimizer='Adam', loss='categorical_crossentropy',metrics=METRICS)"
      ],
      "execution_count": null,
      "outputs": []
    },
    {
      "cell_type": "code",
      "metadata": {
        "id": "vkJ-5lClHogd"
      },
      "source": [
        "history=model.fit(train_generator,\n",
        "                  validation_data = validation_generator,\n",
        "                  epochs = 30, \n",
        "                  verbose = 1,\n",
        "                  callbacks=[lrd,mcp,es])"
      ],
      "execution_count": null,
      "outputs": []
    },
    {
      "cell_type": "code",
      "metadata": {
        "id": "tEzxjVvFPlj4"
      },
      "source": [
        "model.evaluate(test_generator, verbose=1)"
      ],
      "execution_count": null,
      "outputs": []
    },
    {
      "cell_type": "markdown",
      "metadata": {
        "id": "UE_Ce2wYV0km"
      },
      "source": [
        "## 4.3. Model Performance Curves"
      ]
    },
    {
      "cell_type": "code",
      "metadata": {
        "id": "-laADhQljBGt"
      },
      "source": [
        "def Train_Val_Plot(acc,val_acc,loss,val_loss,auc,val_auc,precision,val_precision,f1,val_f1):\n",
        "    \n",
        "    fig, (ax1, ax2,ax3,ax4,ax5) = plt.subplots(1,5, figsize= (20,5))\n",
        "    fig.suptitle(\" MODEL'S METRICS VISUALIZATION \")\n",
        "\n",
        "    ax1.plot(range(1, len(acc) + 1), acc)\n",
        "    ax1.plot(range(1, len(val_acc) + 1), val_acc)\n",
        "    ax1.set_title('History of Accuracy')\n",
        "    ax1.set_xlabel('Epochs')\n",
        "    ax1.set_ylabel('Accuracy')\n",
        "    ax1.legend(['training', 'validation'])\n",
        "\n",
        "\n",
        "    ax2.plot(range(1, len(loss) + 1), loss)\n",
        "    ax2.plot(range(1, len(val_loss) + 1), val_loss)\n",
        "    ax2.set_title('History of Loss')\n",
        "    ax2.set_xlabel('Epochs')\n",
        "    ax2.set_ylabel('Loss')\n",
        "    ax2.legend(['training', 'validation'])\n",
        "    \n",
        "    ax3.plot(range(1, len(auc) + 1), auc)\n",
        "    ax3.plot(range(1, len(val_auc) + 1), val_auc)\n",
        "    ax3.set_title('History of AUC')\n",
        "    ax3.set_xlabel('Epochs')\n",
        "    ax3.set_ylabel('AUC')\n",
        "    ax3.legend(['training', 'validation'])\n",
        "    \n",
        "    ax4.plot(range(1, len(precision) + 1), precision)\n",
        "    ax4.plot(range(1, len(val_precision) + 1), val_precision)\n",
        "    ax4.set_title('History of Precision')\n",
        "    ax4.set_xlabel('Epochs')\n",
        "    ax4.set_ylabel('Precision')\n",
        "    ax4.legend(['training', 'validation'])\n",
        "    \n",
        "    ax5.plot(range(1, len(f1) + 1), f1)\n",
        "    ax5.plot(range(1, len(val_f1) + 1), val_f1)\n",
        "    ax5.set_title('History of F1-score')\n",
        "    ax5.set_xlabel('Epochs')\n",
        "    ax5.set_ylabel('F1 score')\n",
        "    ax5.legend(['training', 'validation'])\n",
        "\n",
        "\n",
        "    plt.show()"
      ],
      "execution_count": null,
      "outputs": []
    },
    {
      "cell_type": "code",
      "metadata": {
        "id": "c_2fXosTPll9"
      },
      "source": [
        "Train_Val_Plot(history.history['accuracy'],history.history['val_accuracy'],\n",
        "               history.history['loss'],history.history['val_loss'],\n",
        "               history.history['auc'],history.history['val_auc'],\n",
        "               history.history['precision'],history.history['val_precision'],\n",
        "               history.history['f1_score'],history.history['val_f1_score']\n",
        "              )"
      ],
      "execution_count": null,
      "outputs": []
    },
    {
      "cell_type": "markdown",
      "metadata": {
        "id": "Low_43onvfW_"
      },
      "source": [
        "# Conclusions\n",
        "\n",
        "In this colab notebook, I have used VGG 16 Convolutional Neural Network Model to classify the Chest CT-Scan of a subject into 4 different classes.\n",
        "\n",
        "Accuracy of the model can be increased by using a increasing the size of the  dataset,or by generating synthetic datasets using GANs, by tuning the hyperparameters and by using state of the art CNN models like Attention based CNN, Vision Transformers, etc. \n",
        "\n"
      ]
    },
    {
      "cell_type": "code",
      "metadata": {
        "id": "7ypd0iFjU6jX"
      },
      "source": [
        ""
      ],
      "execution_count": null,
      "outputs": []
    }
  ]
}